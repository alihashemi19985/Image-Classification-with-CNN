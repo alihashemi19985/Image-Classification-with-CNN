{
 "cells": [
  {
   "cell_type": "code",
   "execution_count": 2,
   "metadata": {},
   "outputs": [],
   "source": [
    "import pandas as pd \n",
    "import numpy as np\n",
    "import torch\n",
    "import matplotlib.pyplot as plt\n",
    "import torch.nn.functional as F\n",
    "import torch.nn as nn\n",
    "from tqdm import tqdm\n",
    "from torchvision import utils,datasets\n",
    "import torchvision.transforms as transforms\n",
    "from torch.optim.lr_scheduler import ExponentialLR, CosineAnnealingWarmRestarts\n",
    "from torchsummary import summary\n",
    "import logging\n",
    "import os "
   ]
  },
  {
   "cell_type": "code",
   "execution_count": 3,
   "metadata": {},
   "outputs": [],
   "source": [
    "class LeNet(nn.Module):\n",
    "    def __init__(self):\n",
    "        super(LeNet,self).__init__()\n",
    "\n",
    "        self.net = nn.Sequential(\n",
    "\n",
    "                    nn.Conv2d(1,6,5,padding=2),\n",
    "                    nn.LeakyReLU(),\n",
    "                    nn.AvgPool2d(2,2),\n",
    "                    nn.Conv2d(6,16,kernel_size=5),\n",
    "                    nn.LeakyReLU(),\n",
    "                    nn.AvgPool2d(2,2)\n",
    "                    \n",
    "                    )\n",
    "        self.flatten = nn.Flatten()            \n",
    "        self.clf = nn.Sequential(\n",
    "                    nn.Linear(400,120),\n",
    "                    nn.LeakyReLU(),\n",
    "                    nn.Linear(120,80),\n",
    "                    nn.LeakyReLU(),\n",
    "                    nn.Linear(80,10)\n",
    "        )           \n",
    "    def forward(self,x):\n",
    "        x = self.net(x)\n",
    "        x = self.flatten(x)\n",
    "        x = self.clf(x)\n",
    "        return x  \n",
    "                   "
   ]
  }
 ],
 "metadata": {
  "kernelspec": {
   "display_name": "base",
   "language": "python",
   "name": "python3"
  },
  "language_info": {
   "codemirror_mode": {
    "name": "ipython",
    "version": 3
   },
   "file_extension": ".py",
   "mimetype": "text/x-python",
   "name": "python",
   "nbconvert_exporter": "python",
   "pygments_lexer": "ipython3",
   "version": "3.9.13"
  }
 },
 "nbformat": 4,
 "nbformat_minor": 2
}
