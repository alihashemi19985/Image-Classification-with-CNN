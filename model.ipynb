{
 "cells": [
  {
   "cell_type": "code",
   "execution_count": 2,
   "metadata": {},
   "outputs": [],
   "source": [
    "import pandas as pd \n",
    "import numpy as np\n",
    "import torch\n",
    "import matplotlib.pyplot as plt\n",
    "import torch.nn.functional as F\n",
    "import torch.nn as nn\n",
    "from tqdm import tqdm\n",
    "from torchvision import utils,datasets\n",
    "import torchvision.transforms as transforms\n",
    "from torch.optim.lr_scheduler import ExponentialLR, CosineAnnealingWarmRestarts\n",
    "from torchsummary import summary\n",
    "import logging\n",
    "import os "
   ]
  },
  {
   "cell_type": "code",
   "execution_count": 3,
   "metadata": {},
   "outputs": [],
   "source": [
    "# importing module\n",
    "import logging\n",
    "\n",
    "# Create and configure logger\n",
    "logging.basicConfig(filename=\"newfile1.log\",\n",
    "\t\t\t\t\tformat='%(asctime)s %(message)s',\n",
    "\t\t\t\t\tfilemode='w')\n",
    "\n",
    "# Creating an object\n",
    "logger = logging.getLogger()\n",
    "\n",
    "# Setting the threshold of logger to DEBUG\n",
    "logger.setLevel(logging.DEBUG)\n",
    "\n",
    "logger.info(\"Just an information\")\n",
    "\n"
   ]
  },
  {
   "cell_type": "code",
   "execution_count": 4,
   "metadata": {},
   "outputs": [
    {
     "name": "stdout",
     "output_type": "stream",
     "text": [
      "Size of the training set: 50000\n",
      "Size of the validation set: 10000\n",
      "Size of the test set: 10000\n"
     ]
    }
   ],
   "source": [
    "import torchvision\n",
    "import torchvision.transforms as transforms\n",
    "## Load the datasets\n",
    "\n",
    "original_set = torchvision.datasets.MNIST(root=\"./\", download=True, \n",
    "                                              train=True,\n",
    "                                              transform=transforms.Compose([transforms.ToTensor(),transforms.Normalize(0,1)]))\n",
    "\n",
    "test_set = torchvision.datasets.MNIST(root=\"./\", download=True, \n",
    "                                              train=False,\n",
    "                                              transform=transforms.Compose([transforms.ToTensor(), transforms.Normalize(0,1)]))\n",
    "\n",
    "from torch.utils.data import random_split, Dataset, DataLoader\n",
    "\n",
    "## Train-val split\n",
    "train_set, val_set = random_split(original_set, [50000, 10000])\n",
    "\n",
    "print(f\"Size of the training set: {len(train_set)}\")\n",
    "print(f\"Size of the validation set: {len(val_set)}\")\n",
    "print(f\"Size of the test set: {len(test_set)}\")\n",
    "\n",
    "## Create the data loaders\n",
    "train_loader = DataLoader(train_set, batch_size=256, shuffle=True)\n",
    "val_loader = DataLoader(val_set, batch_size=256, shuffle=True)\n",
    "test_loader = DataLoader(test_set, batch_size=256, shuffle=True) "
   ]
  },
  {
   "cell_type": "code",
   "execution_count": 6,
   "metadata": {},
   "outputs": [],
   "source": [
    "def fit(clf,\n",
    "        train_loader,\n",
    "        optimizer,\n",
    "        criterian,\n",
    "        scheduler):\n",
    "\n",
    "    clf.train()\n",
    "    training_loss_running = 0\n",
    "    training_correct_running = 0\n",
    "    total = 0\n",
    "    counter = 0\n",
    "    for i,data in enumerate(train_loader):\n",
    "        counter += 1\n",
    "        data,label = data[0],data[1]\n",
    "        #data = data.reshape(-1,28*28)\n",
    "        total += label.size(0)\n",
    "        optimizer.zero_grad()\n",
    "        out = clf(data)\n",
    "        loss = criterian(out,label)\n",
    "        training_loss_running += loss.item()\n",
    "        _,pred = torch.max(out.data,1)\n",
    "        training_correct_running += (pred == label).sum().item()\n",
    "        loss.backward()\n",
    "        optimizer.step()\n",
    "    scheduler.step() \n",
    "    train_loss = training_loss_running / counter\n",
    "    train_accuracy = 100. * training_correct_running / total\n",
    "    return train_loss, train_accuracy     \n"
   ]
  },
  {
   "cell_type": "code",
   "execution_count": 8,
   "metadata": {},
   "outputs": [],
   "source": [
    "def validation (clf,validation_loader,criterian,epoch):\n",
    "    clf.eval()\n",
    "    valid_loss_running = 0\n",
    "    valid_acc_running = 0\n",
    "    total = 0\n",
    "    counter = 0\n",
    "    for i,data in enumerate(validation_loader):\n",
    "        counter += 1\n",
    "        data,label = data[0],data[1]\n",
    "        #data = data.reshape(-1,28*28)\n",
    "        total += label.size(0)\n",
    "        out = clf(data)\n",
    "        loss = criterian(out,label)\n",
    "        valid_loss_running += loss.item()\n",
    "        _,pred = torch.max(out.data,1)\n",
    "        valid_acc_running += (pred == label).sum().item()\n",
    "\n",
    "    valid_loss = valid_loss_running / counter\n",
    "    valid_acc = 100. * valid_acc_running / total  \n",
    "    chk.save(valid_acc,'chk',epoch,clf)\n",
    "      \n",
    "\n",
    "    return valid_loss,valid_acc\n",
    "\n",
    "\n",
    "        \n"
   ]
  },
  {
   "cell_type": "code",
   "execution_count": 9,
   "metadata": {},
   "outputs": [],
   "source": [
    "def train (hyparam,train_loader,val_loader):\n",
    "\n",
    "    clf = LeNet()\n",
    "    optimizer = torch.optim.Adam(clf.parameters(), lr =hyparam['lr'])\n",
    "    criterian = nn.CrossEntropyLoss()\n",
    "    scheduler = CosineAnnealingWarmRestarts(optimizer, T_0=50, T_mult=1)\n",
    "\n",
    "    train_loss =[]\n",
    "    train_acc =[]\n",
    "    val_loss =[]\n",
    "    val_acc = []\n",
    "    \n",
    "    for epoch in range(hyparam['epoch']):\n",
    "        print(f\"Epoch {epoch+1} of {hyparam['epoch']}\")\n",
    "        training_loss,training_acc = fit(clf,train_loader,optimizer,criterian,scheduler)\n",
    "        validation_loss,validation_acc = validation(clf,val_loader,criterian,epoch)\n",
    "\n",
    "        train_loss.append(training_loss)\n",
    "        train_acc.append(training_acc)\n",
    "\n",
    "        val_loss.append(validation_loss)\n",
    "        val_acc.append(validation_acc)\n",
    "\n",
    "        \n",
    "\n",
    "        logger.info(f\" Epoch: {epoch + 1}, Train Loss: {training_loss:.4f}, Train Acc: {training_acc:.2f},\\\n",
    "         Val Loss: {validation_loss:.4f}, Val Acc: {validation_acc:.2f}\")\n",
    "       \n",
    "        print(f\"Train Loss: {training_loss:.4f}, Train Acc: {training_acc:.2f},\\\n",
    "         Val Loss: {validation_loss:.4f}, Val Acc: {validation_acc:.2f}\")\n",
    "\n",
    "\n",
    "\n",
    "      \n",
    "    return clf,train_loss,train_acc,val_loss,val_acc\n",
    "        \n",
    "\n"
   ]
  },
  {
   "cell_type": "code",
   "execution_count": 13,
   "metadata": {},
   "outputs": [
    {
     "name": "stdout",
     "output_type": "stream",
     "text": [
      "Epoch 1 of 10\n",
      "Train Loss: 0.9646, Train Acc: 69.73,         Val Loss: 0.2783, Val Acc: 91.58\n",
      "Epoch 2 of 10\n",
      "Train Loss: 0.2227, Train Acc: 93.41,         Val Loss: 0.1867, Val Acc: 94.06\n",
      "Epoch 3 of 10\n",
      "Train Loss: 0.1580, Train Acc: 95.29,         Val Loss: 0.1387, Val Acc: 95.66\n",
      "Epoch 4 of 10\n",
      "Train Loss: 0.1231, Train Acc: 96.33,         Val Loss: 0.1124, Val Acc: 96.56\n",
      "Epoch 5 of 10\n",
      "Train Loss: 0.1017, Train Acc: 96.98,         Val Loss: 0.0926, Val Acc: 97.13\n",
      "Epoch 6 of 10\n",
      "Train Loss: 0.0872, Train Acc: 97.39,         Val Loss: 0.0875, Val Acc: 97.20\n",
      "Epoch 7 of 10\n",
      "Train Loss: 0.0756, Train Acc: 97.72,         Val Loss: 0.0711, Val Acc: 97.59\n",
      "Epoch 8 of 10\n",
      "Train Loss: 0.0664, Train Acc: 98.01,         Val Loss: 0.0732, Val Acc: 97.71\n",
      "Epoch 9 of 10\n",
      "Train Loss: 0.0618, Train Acc: 98.17,         Val Loss: 0.0646, Val Acc: 97.89\n",
      "Epoch 10 of 10\n",
      "Train Loss: 0.0567, Train Acc: 98.25,         Val Loss: 0.0729, Val Acc: 97.63\n"
     ]
    }
   ],
   "source": [
    "hparams = {'batch_size': 256, 'lr': 6e-4, 'epoch': 10} #6e-4\n",
    "clf,train_loss,train_acc,val_loss,val_acc = train(hparams,train_loader,val_loader)   "
   ]
  },
  {
   "cell_type": "code",
   "execution_count": 10,
   "metadata": {},
   "outputs": [],
   "source": [
    "class Checkpoint(object):\n",
    "    def __init__(self):\n",
    "        self.best_acc = 0.\n",
    "        self.folder = 'chekpoint'\n",
    "        os.makedirs(self.folder, exist_ok=True)\n",
    "    def save(self, acc, filename, epoch,net):\n",
    "        if acc > self.best_acc:\n",
    "            logger.info('Saving checkpoint...')\n",
    "            state = {\n",
    "                'net': net.state_dict(),\n",
    "                'acc': acc,\n",
    "                'epoch': epoch,\n",
    "            }\n",
    "            path = os.path.join(os.path.abspath(self.folder), filename + '.pth')\n",
    "            torch.save(state, path)\n",
    "            self.best_acc = acc\n",
    "    def load(self,clf):\n",
    "        W = torch.load(r'C:\\Users\\Ali\\Desktop\\Temp\\comp\\DL\\EXC1\\chekpoint\\chk.pth')['net']\n",
    "        clf.load_state_dict(W)\n",
    "        return clf\n",
    "\n",
    "        "
   ]
  },
  {
   "cell_type": "code",
   "execution_count": 11,
   "metadata": {},
   "outputs": [],
   "source": [
    "chk = Checkpoint()\n"
   ]
  },
  {
   "cell_type": "code",
   "execution_count": 14,
   "metadata": {},
   "outputs": [
    {
     "data": {
      "text/plain": [
       "98.14"
      ]
     },
     "execution_count": 14,
     "metadata": {},
     "output_type": "execute_result"
    }
   ],
   "source": [
    "def test(clf,test_loader):\n",
    "\n",
    "    test_acc = 0\n",
    "    total = 0\n",
    "\n",
    "    for i,data in enumerate(test_loader):\n",
    "        data,label = data[0],data[1]\n",
    "        \n",
    "        total += label.size(0)\n",
    "        out = clf(data)\n",
    "        _,pred = torch.max(out.data,1)\n",
    "        test_acc += (pred == label).sum().item()\n",
    "\n",
    "    return 100. * test_acc / total  \n",
    "\n",
    "model_load = chk.load(LeNet())\n",
    "test(model_load,test_loader)\n"
   ]
  },
  {
   "cell_type": "code",
   "execution_count": 12,
   "metadata": {},
   "outputs": [],
   "source": [
    "class LeNet(nn.Module):\n",
    "    def __init__(self):\n",
    "        super(LeNet,self).__init__()\n",
    "\n",
    "        self.net = nn.Sequential(\n",
    "\n",
    "                    nn.Conv2d(1,6,5,padding=2),\n",
    "                    nn.LeakyReLU(),\n",
    "                    nn.AvgPool2d(2,2),\n",
    "                    nn.Conv2d(6,16,kernel_size=5),\n",
    "                    nn.LeakyReLU(),\n",
    "                    nn.AvgPool2d(2,2)\n",
    "                    \n",
    "                    )\n",
    "        self.flatten = nn.Flatten()            \n",
    "        self.clf = nn.Sequential(\n",
    "                    nn.Linear(400,120),\n",
    "                    nn.LeakyReLU(),\n",
    "                    nn.Linear(120,80),\n",
    "                    nn.LeakyReLU(),\n",
    "                    nn.Linear(80,10)\n",
    "        )           \n",
    "    def forward(self,x):\n",
    "        x = self.net(x)\n",
    "        x = self.flatten(x)\n",
    "        x = self.clf(x)\n",
    "        return x  \n",
    "                   "
   ]
  },
  {
   "cell_type": "code",
   "execution_count": 15,
   "metadata": {},
   "outputs": [
    {
     "data": {
      "image/png": "[encoded data removed]",
      "text/plain": [
       "<Figure size 1000x1000 with 16 Axes>"
      ]
     },
     "metadata": {},
     "output_type": "display_data"
    }
   ],
   "source": [
    "data,label = next(iter(test_loader))\n",
    "a = model_load.net(data[0])\n",
    "import torch\n",
    "import matplotlib.pyplot as plt\n",
    "\n",
    "# Example tensor (replace this with your actual tensor)\n",
    "tensor = a\n",
    "\n",
    "# Display each image in a 4x4 grid\n",
    "num_images = tensor.size(0)\n",
    "num_rows = 4\n",
    "num_cols = num_images // num_rows + (num_images % num_rows > 0)\n",
    "\n",
    "plt.figure(figsize=(10, 10))\n",
    "\n",
    "for i in range(num_images):\n",
    "    plt.subplot(num_rows, num_cols, i + 1)\n",
    "    plt.imshow(tensor[i].detach().numpy(), cmap='gray')  # Assuming the values are in the range [0, 1]\n",
    "    plt.axis('off')\n",
    "\n",
    "plt.show()\n"
   ]
  },
  {
   "cell_type": "code",
   "execution_count": 40,
   "metadata": {},
   "outputs": [
    {
     "name": "stdout",
     "output_type": "stream",
     "text": [
      "=================================================================\n",
      "Layer (type:depth-idx)                   Param #\n",
      "=================================================================\n",
      "├─Conv2d: 1-1                            9,408\n",
      "├─BatchNorm2d: 1-2                       128\n",
      "├─ReLU: 1-3                              --\n",
      "├─MaxPool2d: 1-4                         --\n",
      "├─Sequential: 1-5                        --\n",
      "|    └─BasicBlock: 2-1                   --\n",
      "|    |    └─Conv2d: 3-1                  36,864\n",
      "|    |    └─BatchNorm2d: 3-2             128\n",
      "|    |    └─ReLU: 3-3                    --\n",
      "|    |    └─Conv2d: 3-4                  36,864\n",
      "|    |    └─BatchNorm2d: 3-5             128\n",
      "|    └─BasicBlock: 2-2                   --\n",
      "|    |    └─Conv2d: 3-6                  36,864\n",
      "|    |    └─BatchNorm2d: 3-7             128\n",
      "|    |    └─ReLU: 3-8                    --\n",
      "|    |    └─Conv2d: 3-9                  36,864\n",
      "|    |    └─BatchNorm2d: 3-10            128\n",
      "├─Sequential: 1-6                        --\n",
      "|    └─BasicBlock: 2-3                   --\n",
      "|    |    └─Conv2d: 3-11                 73,728\n",
      "|    |    └─BatchNorm2d: 3-12            256\n",
      "|    |    └─ReLU: 3-13                   --\n",
      "|    |    └─Conv2d: 3-14                 147,456\n",
      "|    |    └─BatchNorm2d: 3-15            256\n",
      "|    |    └─Sequential: 3-16             8,448\n",
      "|    └─BasicBlock: 2-4                   --\n",
      "|    |    └─Conv2d: 3-17                 147,456\n",
      "|    |    └─BatchNorm2d: 3-18            256\n",
      "|    |    └─ReLU: 3-19                   --\n",
      "|    |    └─Conv2d: 3-20                 147,456\n",
      "|    |    └─BatchNorm2d: 3-21            256\n",
      "├─Sequential: 1-7                        --\n",
      "|    └─BasicBlock: 2-5                   --\n",
      "|    |    └─Conv2d: 3-22                 294,912\n",
      "|    |    └─BatchNorm2d: 3-23            512\n",
      "|    |    └─ReLU: 3-24                   --\n",
      "|    |    └─Conv2d: 3-25                 589,824\n",
      "|    |    └─BatchNorm2d: 3-26            512\n",
      "|    |    └─Sequential: 3-27             33,280\n",
      "|    └─BasicBlock: 2-6                   --\n",
      "|    |    └─Conv2d: 3-28                 589,824\n",
      "|    |    └─BatchNorm2d: 3-29            512\n",
      "|    |    └─ReLU: 3-30                   --\n",
      "|    |    └─Conv2d: 3-31                 589,824\n",
      "|    |    └─BatchNorm2d: 3-32            512\n",
      "├─Sequential: 1-8                        --\n",
      "|    └─BasicBlock: 2-7                   --\n",
      "|    |    └─Conv2d: 3-33                 1,179,648\n",
      "|    |    └─BatchNorm2d: 3-34            1,024\n",
      "|    |    └─ReLU: 3-35                   --\n",
      "|    |    └─Conv2d: 3-36                 2,359,296\n",
      "|    |    └─BatchNorm2d: 3-37            1,024\n",
      "|    |    └─Sequential: 3-38             132,096\n",
      "|    └─BasicBlock: 2-8                   --\n",
      "|    |    └─Conv2d: 3-39                 2,359,296\n",
      "|    |    └─BatchNorm2d: 3-40            1,024\n",
      "|    |    └─ReLU: 3-41                   --\n",
      "|    |    └─Conv2d: 3-42                 2,359,296\n",
      "|    |    └─BatchNorm2d: 3-43            1,024\n",
      "├─AdaptiveAvgPool2d: 1-9                 --\n",
      "├─Linear: 1-10                           513,000\n",
      "=================================================================\n",
      "Total params: 11,689,512\n",
      "Trainable params: 11,689,512\n",
      "Non-trainable params: 0\n",
      "=================================================================\n"
     ]
    },
    {
     "data": {
      "text/plain": [
       "=================================================================\n",
       "Layer (type:depth-idx)                   Param #\n",
       "=================================================================\n",
       "├─Conv2d: 1-1                            9,408\n",
       "├─BatchNorm2d: 1-2                       128\n",
       "├─ReLU: 1-3                              --\n",
       "├─MaxPool2d: 1-4                         --\n",
       "├─Sequential: 1-5                        --\n",
       "|    └─BasicBlock: 2-1                   --\n",
       "|    |    └─Conv2d: 3-1                  36,864\n",
       "|    |    └─BatchNorm2d: 3-2             128\n",
       "|    |    └─ReLU: 3-3                    --\n",
       "|    |    └─Conv2d: 3-4                  36,864\n",
       "|    |    └─BatchNorm2d: 3-5             128\n",
       "|    └─BasicBlock: 2-2                   --\n",
       "|    |    └─Conv2d: 3-6                  36,864\n",
       "|    |    └─BatchNorm2d: 3-7             128\n",
       "|    |    └─ReLU: 3-8                    --\n",
       "|    |    └─Conv2d: 3-9                  36,864\n",
       "|    |    └─BatchNorm2d: 3-10            128\n",
       "├─Sequential: 1-6                        --\n",
       "|    └─BasicBlock: 2-3                   --\n",
       "|    |    └─Conv2d: 3-11                 73,728\n",
       "|    |    └─BatchNorm2d: 3-12            256\n",
       "|    |    └─ReLU: 3-13                   --\n",
       "|    |    └─Conv2d: 3-14                 147,456\n",
       "|    |    └─BatchNorm2d: 3-15            256\n",
       "|    |    └─Sequential: 3-16             8,448\n",
       "|    └─BasicBlock: 2-4                   --\n",
       "|    |    └─Conv2d: 3-17                 147,456\n",
       "|    |    └─BatchNorm2d: 3-18            256\n",
       "|    |    └─ReLU: 3-19                   --\n",
       "|    |    └─Conv2d: 3-20                 147,456\n",
       "|    |    └─BatchNorm2d: 3-21            256\n",
       "├─Sequential: 1-7                        --\n",
       "|    └─BasicBlock: 2-5                   --\n",
       "|    |    └─Conv2d: 3-22                 294,912\n",
       "|    |    └─BatchNorm2d: 3-23            512\n",
       "|    |    └─ReLU: 3-24                   --\n",
       "|    |    └─Conv2d: 3-25                 589,824\n",
       "|    |    └─BatchNorm2d: 3-26            512\n",
       "|    |    └─Sequential: 3-27             33,280\n",
       "|    └─BasicBlock: 2-6                   --\n",
       "|    |    └─Conv2d: 3-28                 589,824\n",
       "|    |    └─BatchNorm2d: 3-29            512\n",
       "|    |    └─ReLU: 3-30                   --\n",
       "|    |    └─Conv2d: 3-31                 589,824\n",
       "|    |    └─BatchNorm2d: 3-32            512\n",
       "├─Sequential: 1-8                        --\n",
       "|    └─BasicBlock: 2-7                   --\n",
       "|    |    └─Conv2d: 3-33                 1,179,648\n",
       "|    |    └─BatchNorm2d: 3-34            1,024\n",
       "|    |    └─ReLU: 3-35                   --\n",
       "|    |    └─Conv2d: 3-36                 2,359,296\n",
       "|    |    └─BatchNorm2d: 3-37            1,024\n",
       "|    |    └─Sequential: 3-38             132,096\n",
       "|    └─BasicBlock: 2-8                   --\n",
       "|    |    └─Conv2d: 3-39                 2,359,296\n",
       "|    |    └─BatchNorm2d: 3-40            1,024\n",
       "|    |    └─ReLU: 3-41                   --\n",
       "|    |    └─Conv2d: 3-42                 2,359,296\n",
       "|    |    └─BatchNorm2d: 3-43            1,024\n",
       "├─AdaptiveAvgPool2d: 1-9                 --\n",
       "├─Linear: 1-10                           513,000\n",
       "=================================================================\n",
       "Total params: 11,689,512\n",
       "Trainable params: 11,689,512\n",
       "Non-trainable params: 0\n",
       "================================================================="
      ]
     },
     "execution_count": 40,
     "metadata": {},
     "output_type": "execute_result"
    }
   ],
   "source": [
    "from torchvision import models \n",
    "vgg = models.resnet18()\n",
    "summary(vgg)     "
   ]
  },
  {
   "cell_type": "code",
   "execution_count": 16,
   "metadata": {},
   "outputs": [],
   "source": [
    "data,label = next(iter(train_loader))"
   ]
  },
  {
   "cell_type": "code",
   "execution_count": 17,
   "metadata": {},
   "outputs": [
    {
     "name": "stdout",
     "output_type": "stream",
     "text": [
      "tensor(7)\n"
     ]
    },
    {
     "data": {
      "image/png": "[encoded data removed]",
      "text/plain": [
       "<Figure size 640x480 with 1 Axes>"
      ]
     },
     "metadata": {},
     "output_type": "display_data"
    }
   ],
   "source": [
    "plt.imshow(data[2].reshape(28,28))\n",
    "print(label[2]) "
   ]
  },
  {
   "cell_type": "code",
   "execution_count": 18,
   "metadata": {},
   "outputs": [
    {
     "data": {
      "text/plain": [
       "tensor([7])"
      ]
     },
     "execution_count": 18,
     "metadata": {},
     "output_type": "execute_result"
    }
   ],
   "source": [
    "out = clf(data[2:3,:,:,:])\n",
    "_,pred = torch.max(out,1)\n",
    "pred  "
   ]
  },
  {
   "cell_type": "code",
   "execution_count": 1,
   "metadata": {},
   "outputs": [
    {
     "name": "stdout",
     "output_type": "stream",
     "text": [
      "Requirement already satisfied: numpy==1.20.0 in c:\\users\\ali\\anaconda3\\lib\\site-packages (1.20.0)\n"
     ]
    }
   ],
   "source": [
    "\n",
    "! pip install numpy==1.20.0\n",
    "import cv2 \n"
   ]
  },
  {
   "cell_type": "code",
   "execution_count": 55,
   "metadata": {},
   "outputs": [
    {
     "data": {
      "text/plain": [
       "tensor([9])"
      ]
     },
     "execution_count": 55,
     "metadata": {},
     "output_type": "execute_result"
    }
   ],
   "source": [
    "img = cv2.imread(r'C:\\Users\\Ali\\Desktop\\9.png',0)\n",
    "transform = transforms.Compose([transforms.ToTensor(),transforms.Normalize(0,1)])\n",
    "img = transform(img)\n",
    "out = clf(img.view(1,1,28,28)) \n",
    "_,pred = torch.max(out,1)\n",
    "pred   "
   ]
  }
 ],
 "metadata": {
  "kernelspec": {
   "display_name": "base",
   "language": "python",
   "name": "python3"
  },
  "language_info": {
   "codemirror_mode": {
    "name": "ipython",
    "version": 3
   },
   "file_extension": ".py",
   "mimetype": "text/x-python",
   "name": "python",
   "nbconvert_exporter": "python",
   "pygments_lexer": "ipython3",
   "version": "3.9.13"
  },
  "orig_nbformat": 4
 },
 "nbformat": 4,
 "nbformat_minor": 2
}
